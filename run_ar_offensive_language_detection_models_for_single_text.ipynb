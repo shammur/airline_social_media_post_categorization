{
 "cells": [
  {
   "cell_type": "code",
   "execution_count": 5,
   "metadata": {},
   "outputs": [
    {
     "name": "stderr",
     "output_type": "stream",
     "text": [
      "/Users/qcri_shammur/Tools/anaconda3/lib/python3.7/site-packages/sklearn/externals/joblib/__init__.py:15: DeprecationWarning: sklearn.externals.joblib is deprecated in 0.21 and will be removed in 0.23. Please import this functionality directly from joblib, which can be installed with: pip install joblib. If this warning is raised when loading pickled models, you may need to re-serialize those models with scikit-learn 0.21+.\n",
      "  warnings.warn(msg, category=DeprecationWarning)\n"
     ]
    },
    {
     "name": "stdout",
     "output_type": "stream",
     "text": [
      "None\n"
     ]
    }
   ],
   "source": [
    "#!/usr/bin/env python\n",
    "\n",
    "#  Author: Shammur Absar Chowdhury; 13/02/2020\n",
    "# *************************************** #\n",
    "\n",
    "import sys\n",
    "\n",
    "sys.path.insert(1, './bin')\n",
    "import numpy as np\n",
    "import pandas as pd\n",
    "import prediction_model as mod\n",
    "import importlib\n",
    "\n",
    "\n",
    "\n"
   ]
  },
  {
   "cell_type": "code",
   "execution_count": 7,
   "metadata": {},
   "outputs": [
    {
     "ename": "FileNotFoundError",
     "evalue": "[Errno 2] No such file or directory: 'model/ar_offensive_detection_svm.hdf5'",
     "output_type": "error",
     "traceback": [
      "\u001b[0;31m---------------------------------------------------------------------------\u001b[0m",
      "\u001b[0;31mFileNotFoundError\u001b[0m                         Traceback (most recent call last)",
      "\u001b[0;32m<ipython-input-7-b29aa82e8e1e>\u001b[0m in \u001b[0;36m<module>\u001b[0;34m\u001b[0m\n\u001b[1;32m     10\u001b[0m \u001b[0mconfig_dictionary\u001b[0m \u001b[0;34m=\u001b[0m \u001b[0mmod\u001b[0m\u001b[0;34m.\u001b[0m\u001b[0mread_config\u001b[0m\u001b[0;34m(\u001b[0m\u001b[0mconfig_file_name\u001b[0m\u001b[0;34m)\u001b[0m\u001b[0;34m\u001b[0m\u001b[0;34m\u001b[0m\u001b[0m\n\u001b[1;32m     11\u001b[0m \u001b[0;34m\u001b[0m\u001b[0m\n\u001b[0;32m---> 12\u001b[0;31m \u001b[0mloaded_model\u001b[0m\u001b[0;34m,\u001b[0m \u001b[0mtokenizer\u001b[0m\u001b[0;34m,\u001b[0m \u001b[0mlabel_encoder\u001b[0m \u001b[0;34m=\u001b[0m \u001b[0mmod\u001b[0m\u001b[0;34m.\u001b[0m\u001b[0mload_models\u001b[0m\u001b[0;34m(\u001b[0m\u001b[0mconfig_dictionary\u001b[0m\u001b[0;34m)\u001b[0m\u001b[0;34m\u001b[0m\u001b[0;34m\u001b[0m\u001b[0m\n\u001b[0m",
      "\u001b[0;32m~/ProductionWorkspace/NewsCategorization/off_ar/model_packaged/ar_offensive_detection_model/bin/prediction_model.py\u001b[0m in \u001b[0;36mload_models\u001b[0;34m(config_dictionary)\u001b[0m\n\u001b[1;32m    165\u001b[0m \u001b[0;34m\u001b[0m\u001b[0m\n\u001b[1;32m    166\u001b[0m     \u001b[0;31m# Load from file\u001b[0m\u001b[0;34m\u001b[0m\u001b[0;34m\u001b[0m\u001b[0;34m\u001b[0m\u001b[0m\n\u001b[0;32m--> 167\u001b[0;31m     \u001b[0;32mwith\u001b[0m \u001b[0mopen\u001b[0m\u001b[0;34m(\u001b[0m\u001b[0mconfig_dictionary\u001b[0m\u001b[0;34m[\u001b[0m\u001b[0;34m\"model_file\"\u001b[0m\u001b[0;34m]\u001b[0m\u001b[0;34m,\u001b[0m \u001b[0;34m'rb'\u001b[0m\u001b[0;34m)\u001b[0m \u001b[0;32mas\u001b[0m \u001b[0mfile\u001b[0m\u001b[0;34m:\u001b[0m\u001b[0;34m\u001b[0m\u001b[0;34m\u001b[0m\u001b[0m\n\u001b[0m\u001b[1;32m    168\u001b[0m         \u001b[0mloaded_model\u001b[0m \u001b[0;34m=\u001b[0m \u001b[0mpickle\u001b[0m\u001b[0;34m.\u001b[0m\u001b[0mload\u001b[0m\u001b[0;34m(\u001b[0m\u001b[0mfile\u001b[0m\u001b[0;34m)\u001b[0m\u001b[0;34m\u001b[0m\u001b[0;34m\u001b[0m\u001b[0m\n\u001b[1;32m    169\u001b[0m \u001b[0;34m\u001b[0m\u001b[0m\n",
      "\u001b[0;31mFileNotFoundError\u001b[0m: [Errno 2] No such file or directory: 'model/ar_offensive_detection_svm.hdf5'"
     ]
    }
   ],
   "source": [
    "\"\"\"\n",
    "Defining config file path\n",
    "\"\"\"\n",
    "config_file_name=\"models/ar_offensive_detection_svm.config\"\n",
    "\n",
    "\n",
    "\"\"\"\n",
    "Loading Model\n",
    "\"\"\"\n",
    "config_dictionary = mod.read_config(config_file_name)\n",
    "\n",
    "loaded_model, tokenizer, label_encoder = mod.load_models(config_dictionary)\n"
   ]
  },
  {
   "cell_type": "code",
   "execution_count": 68,
   "metadata": {},
   "outputs": [
    {
     "name": "stdout",
     "output_type": "stream",
     "text": [
      "class label: NOT_OFF\n"
     ]
    }
   ],
   "source": [
    "\"\"\"\n",
    "To process a single item/text, which also takes care of empty vector and returns None\n",
    "\n",
    "\"\"\"\n",
    "text=\"فقط للتصحيح، مدة الاحتكار حسب إتفاقية تريبس تبتدأ فور تسجيل الدواء كإختراع ملموس ماديا و ليس من وقت بدأ الابحاث، يعني العشرين سنة مضمونة لا وممكن تزيد لأكثة من عشرين سنة هدا ما يطلق عليه تريبس  \"\n",
    "lab=mod.predict_single_item(loaded_model, tokenizer, label_encoder, text)\n",
    "print(\"class label: %s\" % (lab))\n"
   ]
  },
  {
   "cell_type": "code",
   "execution_count": 59,
   "metadata": {},
   "outputs": [],
   "source": []
  },
  {
   "cell_type": "code",
   "execution_count": 60,
   "metadata": {},
   "outputs": [
    {
     "name": "stdout",
     "output_type": "stream",
     "text": [
      "['USERIDX USERIDX ماشاء الله روووعه تسلم الايادي يابنت المدينه داءما متالقه'\n",
      " 'عمر انتبه تحلق شعرك رجاء والله شكلك رهيب 😍👍🏻'\n",
      " 'USERIDX MohammadAbbas يافانز لاتقولون يابنت العز العز لله وتقولون بنت الاصل كلنا هناواحد وكلنا بنات اصول جد مااحب كلمات انا'\n",
      " 'USERIDX تاخذوا بحديث سعد لقد فقد الشرعيه جلس بالقرب خاطفه مبس'\n",
      " 'راءعه راءعه راءعه اللللف مليووون 💛💛💛💛'\n",
      " 'USERIDX مجرد اعلان قاءد ان الطاءره ارتطمت ب سيثير الذعر الشيء الكثير لذا علي القاءد الا يخبر الركاب بشيء'\n",
      " 'بعيدا موضوع الحلقه دي المثيير للجدل دكتوره ايمان بحب اقولك انه شاء الله علييكي انتي عندك تاثيير فظيع ع الناس بتتكلمي وبصراحه دكاتره كتيير بيكلمو وبيدوو كتيير معلومات ف فتره وجيزه بيبقي ملل بنسمعهم العكس تماما معاك انتي ربنا يوفقك 👏'\n",
      " 'USERIDX 😹😹😹 الله يعينكم المصريين'\n",
      " 'USERIDX الغريب انه نفسه مهاجر ويعادي المهاجرين دول ك امريكا وكندا واستراليا ونيوزلندا تاسست الهجره'\n",
      " 'USERIDX مشتبه اذن ارهابي مقيت'\n",
      " 'فقط للتصحيح مده الاحتكار حسب اتفاقيه تريبس تبتدا فور تسجيل الدواء كاختراع ملموس ماديا و وقت بدا الابحاث يعني العشرين سنه مضمونه وممكن تزيد لاكثه عشرين سنه هدا يطلق تريبس'\n",
      " 'تصلي جمعه وترجع اخ' 'USERIDX عندما يحاول الحمار تعلم فن الابتزاز'\n",
      " 'USERIDX شكثر اندقرنا بحياتنا و كليتنا تبن و كملنا حياتنا بكل سلاسه سلاسه اربعاا خمسااا سته خلاص خلاص اسف'\n",
      " 'لازم يكون وعي للناس يلي بتابعكم كمان لانو لهلا مابيعرفو انو اخباركم مفبركه وكذب'\n",
      " 'شاب واعي و مثقف جداربي يوفقك لكل خير و شاب الوطن العربي بادر لنشر المعرفه مثل احمد الغندورلكان وضع الوطن العربي مختلف تماما اخوكم حيدر العراق'\n",
      " 'USERIDX المقطع يحسسك بانه علي قناه اسراءيليه تسخر العرب اذا كان مقدمي البرنامج يعرفون يلبسون الشماغ و العقال فليستعينوا بخبير ازياء انهم اردنيون و الشماغ جزء ثقافتهم'\n",
      " 'الي يقول فما عنصريه تونس اكيد مركبها لروحه وحاسس بينو وبين روحه وماعندوش ثقه روحه انا عمري ماشفت عنصريه تونس وقتاه احنا هكه صحيح نقولو كحلوشه واسمر اما مش اهانه مايراهااهانه كان الي يحشم بلونه مالا الي يقلولهايابصله يامصفاره ستعمل بربي ناس تسمر روحهاولات الاسمر تونس يشبهه بالعسل وهي تقول عنصوري تحب تنجح ماتعملش سبب وهمي وتجمع وتعمم كلنا توانسه وحتي كان فما عوج مافيهاش واحد بالميه باش تجمع وتكبر الحكايه'\n",
      " 'البرازيل انبهرو البنت المصريه ازاي محجبه وبتلعب اللعب ده بيقولو مش حر مش مش وواقفين جنبها وبيساندوها ضد الامريكيه اللي لابسه البكيني احنا اللي دايما بناخد المجريات علي مقاسنا وبالنقد داءما وبتقول شعب الله المختار حول قوه الا بالله العلي العظيم'\n",
      " 'الاستفسارات واقع تفكيرك و فلسفتك لان مش هعتبر د علم وراثه ولكنها فلسفه و فلسفه تحترم <NUM> بناء علي كلام اعمار الغير متزوجين مفروض تكون نسبيا اكبر المتزوج الي سلم جيناتو للجيل الجديد و علي كلام وسالته الحياه خلصت <NUM> اعمار الانسان القديم تتوقع يعيشون علي كلام فرصه بقاءم ضعيفه و بالتالي يتزاوج بدري و المفروض بناء علي فلسفتك ينتهي سريعا الغريب ان اعمارهم كانت اضعافنا حتي ايام الانبياء و الرسل <NUM> البقاء للاقوي موجود يوم لحظه و الجينات تعمل علي filter الاجيال القويه و تقديمها علي الاضعف و يحدث اختيار الحيوان المنوي الاقوي الوحيد يستطيع تلقيح البويضه يعني اول الخلق بيحصل تحسين للجينات <NUM> بالنسبه للانقسام الذاتي للانسان حدث لكانت الطفراه الوراثيه اضعاف ماهو موجود اليوم لاسباب كثير تحياتي'\n",
      " 'ليه مذكرتيش ان العربيه افضل و اعمق العبريه'\n",
      " 'USERIDX المسكين كان مخطف طرف هذاك سلمان اذا حول قوه 🤕'\n",
      " 'USERIDX USERIDX وجود غاده عويس البرنامج كوجود العاقل مستشفي المجانين غاده عيوس اكثر دها وحنكه برنامج ورا الخبر'\n",
      " 'USERIDX الا توجد حكومه متي تظاهر شعبها قالت لبيك شعبي سمعا و طاعه اما القمع و اما القمع و اما الاستخفاف بقرارات وهميه'\n",
      " 'الاعلام المصري معروف بدناءته لدي العالم فهذا الاعلام يحرض علي قتل شعبه فكيف يحرض علي قتل شعوب اخري'\n",
      " 'اساله للتفكر ليش نعطي لايك للي يعجبنا يعني مثلا عمر يعطي لايك للي يعجبه فكرت ليه انا اتابع الي يعجبني افكر اشوف شي تجربه او خبره ليش انا استانس اذا صاحب الحساب عطاني لايك ليش انا استانس انه صار العدل او الحق للضعيف و انا مالي صلاح قضيته راح استفيد شي ليش حنا نكون متعصبين افكارنا نعطي فرصه و نجرب الي خلانا متعصبين و اساله كثيير كلام و فلسفه كثيره تدور راسي احيانا استمتع و انا افكر'\n",
      " 'USERIDX USERIDX لعنت الله ابن الحرام متخلف عبدالوهاب اسم شيعي غبي الله يلعن ابو شواربك الهكري'\n",
      " 'السودان الشعوب لذلك لايهمنا يس ء الينا بج ي وقت نرد ع كلامهم الس ودان ارض الجمال والنيل حضاره ممتده يكف ي عندنا نيل ين وجي ش ق وي ج دا يقات ل داخل السودان وخ ارجها'\n",
      " 'غباء بعده غباء الشيخ احمد الواءلي رحمه الله كان يملك العلم تملكوه جميع مقدم الي معد البرنامج الي المخرج المتخلف كانت الشجاعه لنشرتوا مقطع الفيديو كامل تفهم الناس يقصد الشيخ كلامه والمغزي الجهل يعمي عيونكم للاسف'\n",
      " 'USERIDX خطابات رنانه كاذبه يقبع سجون تركيا ومعتقلاتها']\n"
     ]
    }
   ],
   "source": []
  },
  {
   "cell_type": "code",
   "execution_count": null,
   "metadata": {},
   "outputs": [],
   "source": []
  }
 ],
 "metadata": {
  "kernelspec": {
   "display_name": "Python 3",
   "language": "python",
   "name": "python3"
  },
  "language_info": {
   "codemirror_mode": {
    "name": "ipython",
    "version": 3
   },
   "file_extension": ".py",
   "mimetype": "text/x-python",
   "name": "python",
   "nbconvert_exporter": "python",
   "pygments_lexer": "ipython3",
   "version": "3.7.3"
  }
 },
 "nbformat": 4,
 "nbformat_minor": 1
}
